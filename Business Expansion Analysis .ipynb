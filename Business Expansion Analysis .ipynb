{
    "cells": [
        {
            "cell_type": "markdown",
            "metadata": {
                "collapsed": true
            },
            "source": "# Business Expansion Analysis.  \n**Capstone Project - The Battle of Neighborhoods**  \n*by Luis Jacobo*  \n04/25/2020"
        },
        {
            "cell_type": "markdown",
            "metadata": {},
            "source": "## 1. Introduction"
        },
        {
            "cell_type": "markdown",
            "metadata": {},
            "source": "In the last years, the city of Santo Domingo has had a great growth of fast food businesses such as food trucks.  \n\n\nA food truck owner has contacted us to help him find the best location for a second food truck.    \n\n\nWe will study the success of the different food trucks in the city, using the information obtained with the Foursquare API, together with the information of the amount of population in each neighborhood and thus decide the best location for the second food truck."
        },
        {
            "cell_type": "markdown",
            "metadata": {},
            "source": "## 2. Data Collection and cleaning."
        },
        {
            "cell_type": "markdown",
            "metadata": {},
            "source": "I found a list of the neighborhoods of Santo Domingo, Distrito Nacional with the population of each one, which you can find it here: <i>https://en.wikipedia.org/wiki/Distrito_Nacional#Sectores_(neighborhoods)</i>.   \n   \nIn order to get the latitude and longitude of each neighborhood I used the Geopy library, making queries with the neighborhood name.      \n    \nWill create a new dataset as result of merging the Geolocation data with the neighborhoods.     \n    \nThe Foursquare API will give us the results for the search \"Food trucks\" in each neighborhood of Santo Domingo, Distrito Nacional within a 300m radius. We will eliminate duplicate values and obtain the number of tips and their rating.     \n       \nFinally we will save the dataframes for further visualization and analysis.\n"
        },
        {
            "cell_type": "code",
            "execution_count": null,
            "metadata": {},
            "outputs": [],
            "source": ""
        }
    ],
    "metadata": {
        "kernelspec": {
            "display_name": "Python 3.6",
            "language": "python",
            "name": "python3"
        },
        "language_info": {
            "codemirror_mode": {
                "name": "ipython",
                "version": 3
            },
            "file_extension": ".py",
            "mimetype": "text/x-python",
            "name": "python",
            "nbconvert_exporter": "python",
            "pygments_lexer": "ipython3",
            "version": "3.6.9"
        }
    },
    "nbformat": 4,
    "nbformat_minor": 1
}